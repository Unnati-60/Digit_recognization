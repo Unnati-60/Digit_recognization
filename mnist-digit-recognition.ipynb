{
 "cells": [
  {
   "cell_type": "code",
   "execution_count": 1,
   "id": "b71ae2b1",
   "metadata": {
    "_cell_guid": "b1076dfc-b9ad-4769-8c92-a6c4dae69d19",
    "_uuid": "8f2839f25d086af736a60e9eeb907d3b93b6e0e5",
    "execution": {
     "iopub.execute_input": "2024-10-06T15:58:12.735232Z",
     "iopub.status.busy": "2024-10-06T15:58:12.734787Z",
     "iopub.status.idle": "2024-10-06T15:58:13.659121Z",
     "shell.execute_reply": "2024-10-06T15:58:13.658038Z"
    },
    "papermill": {
     "duration": 0.935642,
     "end_time": "2024-10-06T15:58:13.662171",
     "exception": false,
     "start_time": "2024-10-06T15:58:12.726529",
     "status": "completed"
    },
    "tags": []
   },
   "outputs": [
    {
     "name": "stdout",
     "output_type": "stream",
     "text": [
      "/kaggle/input/digit-recognizer/sample_submission.csv\n",
      "/kaggle/input/digit-recognizer/train.csv\n",
      "/kaggle/input/digit-recognizer/test.csv\n"
     ]
    }
   ],
   "source": [
    "# This Python 3 environment comes with many helpful analytics libraries installed\n",
    "# It is defined by the kaggle/python Docker image: https://github.com/kaggle/docker-python\n",
    "# For example, here's several helpful packages to load\n",
    "\n",
    "import numpy as np # linear algebra\n",
    "import pandas as pd # data processing, CSV file I/O (e.g. pd.read_csv)\n",
    "\n",
    "# Input data files are available in the read-only \"../input/\" directory\n",
    "# For example, running this (by clicking run or pressing Shift+Enter) will list all files under the input directory\n",
    "\n",
    "import os\n",
    "for dirname, _, filenames in os.walk('/kaggle/input'):\n",
    "    for filename in filenames:\n",
    "        print(os.path.join(dirname, filename))\n",
    "\n",
    "# You can write up to 20GB to the current directory (/kaggle/working/) that gets preserved as output when you create a version using \"Save & Run All\" \n",
    "# You can also write temporary files to /kaggle/temp/, but they won't be saved outside of the current session"
   ]
  },
  {
   "cell_type": "markdown",
   "id": "796dbea1",
   "metadata": {
    "papermill": {
     "duration": 0.006162,
     "end_time": "2024-10-06T15:58:13.675031",
     "exception": false,
     "start_time": "2024-10-06T15:58:13.668869",
     "status": "completed"
    },
    "tags": []
   },
   "source": [
    "# Dataset Description\n",
    "The data files train.csv and test.csv contain gray-scale images of hand-drawn digits, from zero through nine.\n",
    "\n",
    "Each image is 28 pixels in height and 28 pixels in width, for a total of 784 pixels in total. Each pixel has a single pixel-value associated with it, indicating the lightness or darkness of that pixel, with higher numbers meaning darker. This pixel-value is an integer between 0 and 255, inclusive."
   ]
  },
  {
   "cell_type": "code",
   "execution_count": 2,
   "id": "437fd5c5",
   "metadata": {
    "execution": {
     "iopub.execute_input": "2024-10-06T15:58:13.689204Z",
     "iopub.status.busy": "2024-10-06T15:58:13.688650Z",
     "iopub.status.idle": "2024-10-06T15:58:15.166247Z",
     "shell.execute_reply": "2024-10-06T15:58:15.165252Z"
    },
    "papermill": {
     "duration": 1.487912,
     "end_time": "2024-10-06T15:58:15.169056",
     "exception": false,
     "start_time": "2024-10-06T15:58:13.681144",
     "status": "completed"
    },
    "tags": []
   },
   "outputs": [],
   "source": [
    "import pandas as pd \n",
    "import numpy as np\n",
    "from sklearn.model_selection import train_test_split\n",
    "import matplotlib.pyplot as plt\n",
    "%matplotlib inline"
   ]
  },
  {
   "cell_type": "code",
   "execution_count": 3,
   "id": "58e4a687",
   "metadata": {
    "execution": {
     "iopub.execute_input": "2024-10-06T15:58:15.183439Z",
     "iopub.status.busy": "2024-10-06T15:58:15.182877Z",
     "iopub.status.idle": "2024-10-06T15:58:20.751025Z",
     "shell.execute_reply": "2024-10-06T15:58:20.749637Z"
    },
    "papermill": {
     "duration": 5.578258,
     "end_time": "2024-10-06T15:58:20.753644",
     "exception": false,
     "start_time": "2024-10-06T15:58:15.175386",
     "status": "completed"
    },
    "tags": []
   },
   "outputs": [],
   "source": [
    "train = pd.read_csv(\"/kaggle/input/digit-recognizer/train.csv\")\n",
    "test = pd.read_csv(\"/kaggle/input/digit-recognizer/test.csv\")\n",
    "\n",
    "train = train.to_numpy()"
   ]
  },
  {
   "cell_type": "code",
   "execution_count": 4,
   "id": "ae83cce2",
   "metadata": {
    "execution": {
     "iopub.execute_input": "2024-10-06T15:58:20.768140Z",
     "iopub.status.busy": "2024-10-06T15:58:20.767708Z",
     "iopub.status.idle": "2024-10-06T15:58:20.774780Z",
     "shell.execute_reply": "2024-10-06T15:58:20.773093Z"
    },
    "papermill": {
     "duration": 0.017601,
     "end_time": "2024-10-06T15:58:20.777643",
     "exception": false,
     "start_time": "2024-10-06T15:58:20.760042",
     "status": "completed"
    },
    "tags": []
   },
   "outputs": [
    {
     "name": "stdout",
     "output_type": "stream",
     "text": [
      "size of train data: 42000\n",
      "size of test data: 28000\n"
     ]
    }
   ],
   "source": [
    "print(f\"size of train data: {train.shape[0]}\")\n",
    "print(f\"size of test data: {test.shape[0]}\")"
   ]
  },
  {
   "cell_type": "code",
   "execution_count": 5,
   "id": "c162a946",
   "metadata": {
    "execution": {
     "iopub.execute_input": "2024-10-06T15:58:20.793172Z",
     "iopub.status.busy": "2024-10-06T15:58:20.792690Z",
     "iopub.status.idle": "2024-10-06T15:58:21.249486Z",
     "shell.execute_reply": "2024-10-06T15:58:21.248241Z"
    },
    "papermill": {
     "duration": 0.468138,
     "end_time": "2024-10-06T15:58:21.252198",
     "exception": false,
     "start_time": "2024-10-06T15:58:20.784060",
     "status": "completed"
    },
    "tags": []
   },
   "outputs": [
    {
     "name": "stdout",
     "output_type": "stream",
     "text": [
      "shape of x_train: (33600, 784)\t Type of x_train: <class 'numpy.ndarray'>\n",
      "shape of y_train: (33600, 1)\t Type of y_train: <class 'numpy.ndarray'>\n",
      "\n",
      "shape of x_val: (8400, 784)\t Type of x_val: <class 'numpy.ndarray'>\n",
      "shape of y_val: (8400, 1)\t Type of y_val: <class 'numpy.ndarray'>\n"
     ]
    }
   ],
   "source": [
    "train_data , cross_val =  train_test_split(train, test_size=0.2,  random_state =88)\n",
    "\n",
    "X_train = train_data[:,1:]\n",
    "X_val = cross_val[:,1:]\n",
    "y_train = train_data[:,0].reshape(-1,1)\n",
    "y_val = cross_val[:,0].reshape(-1,1)\n",
    "\n",
    "print(f\"shape of x_train: {X_train.shape}\\t Type of x_train: {type(X_train)}\")\n",
    "print(f\"shape of y_train: {y_train.shape}\\t Type of y_train: {type(y_train)}\\n\")\n",
    "print(f\"shape of x_val: {X_val.shape}\\t Type of x_val: {type(X_val)}\")\n",
    "print(f\"shape of y_val: {y_val.shape}\\t Type of y_val: {type(y_val)}\")"
   ]
  },
  {
   "cell_type": "code",
   "execution_count": 6,
   "id": "fa7a479e",
   "metadata": {
    "execution": {
     "iopub.execute_input": "2024-10-06T15:58:21.266925Z",
     "iopub.status.busy": "2024-10-06T15:58:21.266095Z",
     "iopub.status.idle": "2024-10-06T15:58:24.733232Z",
     "shell.execute_reply": "2024-10-06T15:58:24.732001Z"
    },
    "papermill": {
     "duration": 3.477331,
     "end_time": "2024-10-06T15:58:24.735812",
     "exception": false,
     "start_time": "2024-10-06T15:58:21.258481",
     "status": "completed"
    },
    "tags": []
   },
   "outputs": [
    {
     "data": {
      "image/png": "[encoded data removed]",
      "text/plain": [
       "<Figure size 500x500 with 36 Axes>"
      ]
     },
     "metadata": {},
     "output_type": "display_data"
    }
   ],
   "source": [
    "fig,axes = plt.subplots(6,6, figsize=(5,5))\n",
    "fig.tight_layout(pad=0.13,rect=[0, 0.03, 1, 0.91])\n",
    "\n",
    "m = X_train.shape[0]\n",
    "\n",
    "\n",
    "for i,ax in enumerate(axes.flat):\n",
    "    # selecting random indices\n",
    "    random_index = np.random.randint(m)\n",
    "    \n",
    "    x_random_reshaped = X_train[random_index].reshape(28,28)\n",
    "    \n",
    "    ax.imshow(x_random_reshaped, cmap='gray')\n",
    "    \n",
    "    ax.set_title(y_train[random_index,0])\n",
    "    ax.set_axis_off()\n",
    "    fig.suptitle(\"Label, image\", fontsize=14)"
   ]
  },
  {
   "cell_type": "code",
   "execution_count": 7,
   "id": "a243eff5",
   "metadata": {
    "execution": {
     "iopub.execute_input": "2024-10-06T15:58:24.752998Z",
     "iopub.status.busy": "2024-10-06T15:58:24.751940Z",
     "iopub.status.idle": "2024-10-06T15:58:39.302926Z",
     "shell.execute_reply": "2024-10-06T15:58:39.301718Z"
    },
    "papermill": {
     "duration": 14.562202,
     "end_time": "2024-10-06T15:58:39.305599",
     "exception": false,
     "start_time": "2024-10-06T15:58:24.743397",
     "status": "completed"
    },
    "tags": []
   },
   "outputs": [],
   "source": [
    "import tensorflow as tf\n",
    "from tensorflow.keras.models import Sequential\n",
    "from tensorflow.keras.activations import linear, relu, softmax"
   ]
  },
  {
   "cell_type": "code",
   "execution_count": 8,
   "id": "eb14dfd5",
   "metadata": {
    "execution": {
     "iopub.execute_input": "2024-10-06T15:58:39.322421Z",
     "iopub.status.busy": "2024-10-06T15:58:39.321710Z",
     "iopub.status.idle": "2024-10-06T15:58:39.424490Z",
     "shell.execute_reply": "2024-10-06T15:58:39.423156Z"
    },
    "papermill": {
     "duration": 0.115115,
     "end_time": "2024-10-06T15:58:39.428172",
     "exception": false,
     "start_time": "2024-10-06T15:58:39.313057",
     "status": "completed"
    },
    "tags": []
   },
   "outputs": [],
   "source": [
    "tf.random.set_seed(1234) # for consistent results\n",
    "\n",
    "model = Sequential(\n",
    "        [\n",
    "            tf.keras.Input(shape = (784,)),\n",
    "            tf.keras.layers.Dense(units=25 , activation='relu', name='L1'),\n",
    "            tf.keras.layers.Dense(units=15 , activation='relu', name='L2'),\n",
    "            tf.keras.layers.Dense(units=10 , activation='linear', name='L3'),\n",
    "\n",
    "        ],name=\"my_model\"\n",
    ")\n"
   ]
  },
  {
   "cell_type": "code",
   "execution_count": 9,
   "id": "a292f02b",
   "metadata": {
    "execution": {
     "iopub.execute_input": "2024-10-06T15:58:39.452366Z",
     "iopub.status.busy": "2024-10-06T15:58:39.451204Z",
     "iopub.status.idle": "2024-10-06T15:58:39.477606Z",
     "shell.execute_reply": "2024-10-06T15:58:39.476312Z"
    },
    "papermill": {
     "duration": 0.041766,
     "end_time": "2024-10-06T15:58:39.480004",
     "exception": false,
     "start_time": "2024-10-06T15:58:39.438238",
     "status": "completed"
    },
    "tags": []
   },
   "outputs": [
    {
     "data": {
      "text/html": [
       "<pre style=\"white-space:pre;overflow-x:auto;line-height:normal;font-family:Menlo,'DejaVu Sans Mono',consolas,'Courier New',monospace\"><span style=\"font-weight: bold\">Model: \"my_model\"</span>\n",
       "</pre>\n"
      ],
      "text/plain": [
       "\u001b[1mModel: \"my_model\"\u001b[0m\n"
      ]
     },
     "metadata": {},
     "output_type": "display_data"
    },
    {
     "data": {
      "text/html": [
       "<pre style=\"white-space:pre;overflow-x:auto;line-height:normal;font-family:Menlo,'DejaVu Sans Mono',consolas,'Courier New',monospace\">┏━━━━━━━━━━━━━━━━━━━━━━━━━━━━━━━━━┳━━━━━━━━━━━━━━━━━━━━━━━━┳━━━━━━━━━━━━━━━┓\n",
       "┃<span style=\"font-weight: bold\"> Layer (type)                    </span>┃<span style=\"font-weight: bold\"> Output Shape           </span>┃<span style=\"font-weight: bold\">       Param # </span>┃\n",
       "┡━━━━━━━━━━━━━━━━━━━━━━━━━━━━━━━━━╇━━━━━━━━━━━━━━━━━━━━━━━━╇━━━━━━━━━━━━━━━┩\n",
       "│ L1 (<span style=\"color: #0087ff; text-decoration-color: #0087ff\">Dense</span>)                      │ (<span style=\"color: #00d7ff; text-decoration-color: #00d7ff\">None</span>, <span style=\"color: #00af00; text-decoration-color: #00af00\">25</span>)             │        <span style=\"color: #00af00; text-decoration-color: #00af00\">19,625</span> │\n",
       "├─────────────────────────────────┼────────────────────────┼───────────────┤\n",
       "│ L2 (<span style=\"color: #0087ff; text-decoration-color: #0087ff\">Dense</span>)                      │ (<span style=\"color: #00d7ff; text-decoration-color: #00d7ff\">None</span>, <span style=\"color: #00af00; text-decoration-color: #00af00\">15</span>)             │           <span style=\"color: #00af00; text-decoration-color: #00af00\">390</span> │\n",
       "├─────────────────────────────────┼────────────────────────┼───────────────┤\n",
       "│ L3 (<span style=\"color: #0087ff; text-decoration-color: #0087ff\">Dense</span>)                      │ (<span style=\"color: #00d7ff; text-decoration-color: #00d7ff\">None</span>, <span style=\"color: #00af00; text-decoration-color: #00af00\">10</span>)             │           <span style=\"color: #00af00; text-decoration-color: #00af00\">160</span> │\n",
       "└─────────────────────────────────┴────────────────────────┴───────────────┘\n",
       "</pre>\n"
      ],
      "text/plain": [
       "┏━━━━━━━━━━━━━━━━━━━━━━━━━━━━━━━━━┳━━━━━━━━━━━━━━━━━━━━━━━━┳━━━━━━━━━━━━━━━┓\n",
       "┃\u001b[1m \u001b[0m\u001b[1mLayer (type)                   \u001b[0m\u001b[1m \u001b[0m┃\u001b[1m \u001b[0m\u001b[1mOutput Shape          \u001b[0m\u001b[1m \u001b[0m┃\u001b[1m \u001b[0m\u001b[1m      Param #\u001b[0m\u001b[1m \u001b[0m┃\n",
       "┡━━━━━━━━━━━━━━━━━━━━━━━━━━━━━━━━━╇━━━━━━━━━━━━━━━━━━━━━━━━╇━━━━━━━━━━━━━━━┩\n",
       "│ L1 (\u001b[38;5;33mDense\u001b[0m)                      │ (\u001b[38;5;45mNone\u001b[0m, \u001b[38;5;34m25\u001b[0m)             │        \u001b[38;5;34m19,625\u001b[0m │\n",
       "├─────────────────────────────────┼────────────────────────┼───────────────┤\n",
       "│ L2 (\u001b[38;5;33mDense\u001b[0m)                      │ (\u001b[38;5;45mNone\u001b[0m, \u001b[38;5;34m15\u001b[0m)             │           \u001b[38;5;34m390\u001b[0m │\n",
       "├─────────────────────────────────┼────────────────────────┼───────────────┤\n",
       "│ L3 (\u001b[38;5;33mDense\u001b[0m)                      │ (\u001b[38;5;45mNone\u001b[0m, \u001b[38;5;34m10\u001b[0m)             │           \u001b[38;5;34m160\u001b[0m │\n",
       "└─────────────────────────────────┴────────────────────────┴───────────────┘\n"
      ]
     },
     "metadata": {},
     "output_type": "display_data"
    },
    {
     "data": {
      "text/html": [
       "<pre style=\"white-space:pre;overflow-x:auto;line-height:normal;font-family:Menlo,'DejaVu Sans Mono',consolas,'Courier New',monospace\"><span style=\"font-weight: bold\"> Total params: </span><span style=\"color: #00af00; text-decoration-color: #00af00\">20,175</span> (78.81 KB)\n",
       "</pre>\n"
      ],
      "text/plain": [
       "\u001b[1m Total params: \u001b[0m\u001b[38;5;34m20,175\u001b[0m (78.81 KB)\n"
      ]
     },
     "metadata": {},
     "output_type": "display_data"
    },
    {
     "data": {
      "text/html": [
       "<pre style=\"white-space:pre;overflow-x:auto;line-height:normal;font-family:Menlo,'DejaVu Sans Mono',consolas,'Courier New',monospace\"><span style=\"font-weight: bold\"> Trainable params: </span><span style=\"color: #00af00; text-decoration-color: #00af00\">20,175</span> (78.81 KB)\n",
       "</pre>\n"
      ],
      "text/plain": [
       "\u001b[1m Trainable params: \u001b[0m\u001b[38;5;34m20,175\u001b[0m (78.81 KB)\n"
      ]
     },
     "metadata": {},
     "output_type": "display_data"
    },
    {
     "data": {
      "text/html": [
       "<pre style=\"white-space:pre;overflow-x:auto;line-height:normal;font-family:Menlo,'DejaVu Sans Mono',consolas,'Courier New',monospace\"><span style=\"font-weight: bold\"> Non-trainable params: </span><span style=\"color: #00af00; text-decoration-color: #00af00\">0</span> (0.00 B)\n",
       "</pre>\n"
      ],
      "text/plain": [
       "\u001b[1m Non-trainable params: \u001b[0m\u001b[38;5;34m0\u001b[0m (0.00 B)\n"
      ]
     },
     "metadata": {},
     "output_type": "display_data"
    }
   ],
   "source": [
    "model.summary()     # L1param --> 784*25(w) + 25(b) = 19625"
   ]
  },
  {
   "cell_type": "code",
   "execution_count": 10,
   "id": "b584d23b",
   "metadata": {
    "execution": {
     "iopub.execute_input": "2024-10-06T15:58:39.498176Z",
     "iopub.status.busy": "2024-10-06T15:58:39.497760Z",
     "iopub.status.idle": "2024-10-06T15:58:39.513331Z",
     "shell.execute_reply": "2024-10-06T15:58:39.512055Z"
    },
    "papermill": {
     "duration": 0.027401,
     "end_time": "2024-10-06T15:58:39.515834",
     "exception": false,
     "start_time": "2024-10-06T15:58:39.488433",
     "status": "completed"
    },
    "tags": []
   },
   "outputs": [
    {
     "name": "stdout",
     "output_type": "stream",
     "text": [
      "W1 shape = (784, 25), b1 shape = (25,)\n",
      "W2 shape = (25, 15), b2 shape = (15,)\n",
      "W3 shape = (15, 10), b3 shape = (10,)\n"
     ]
    }
   ],
   "source": [
    "W1,b1 = model.get_layer('L1').get_weights()\n",
    "W2,b2 = model.get_layer('L2').get_weights()\n",
    "W3,b3 = model.get_layer('L3').get_weights()\n",
    "\n",
    "print(f\"W1 shape = {W1.shape}, b1 shape = {b1.shape}\")\n",
    "print(f\"W2 shape = {W2.shape}, b2 shape = {b2.shape}\")\n",
    "print(f\"W3 shape = {W3.shape}, b3 shape = {b3.shape}\")"
   ]
  },
  {
   "cell_type": "code",
   "execution_count": 11,
   "id": "f0b9a983",
   "metadata": {
    "execution": {
     "iopub.execute_input": "2024-10-06T15:58:39.534590Z",
     "iopub.status.busy": "2024-10-06T15:58:39.533713Z",
     "iopub.status.idle": "2024-10-06T16:00:05.817741Z",
     "shell.execute_reply": "2024-10-06T16:00:05.816684Z"
    },
    "papermill": {
     "duration": 86.296202,
     "end_time": "2024-10-06T16:00:05.820420",
     "exception": false,
     "start_time": "2024-10-06T15:58:39.524218",
     "status": "completed"
    },
    "tags": []
   },
   "outputs": [
    {
     "name": "stdout",
     "output_type": "stream",
     "text": [
      "Epoch 1/40\n",
      "\u001b[1m1050/1050\u001b[0m \u001b[32m━━━━━━━━━━━━━━━━━━━━\u001b[0m\u001b[37m\u001b[0m \u001b[1m3s\u001b[0m 2ms/step - loss: 4.2736 - val_loss: 0.9196\n",
      "Epoch 2/40\n",
      "\u001b[1m1050/1050\u001b[0m \u001b[32m━━━━━━━━━━━━━━━━━━━━\u001b[0m\u001b[37m\u001b[0m \u001b[1m2s\u001b[0m 2ms/step - loss: 0.8061 - val_loss: 0.6115\n",
      "Epoch 3/40\n",
      "\u001b[1m1050/1050\u001b[0m \u001b[32m━━━━━━━━━━━━━━━━━━━━\u001b[0m\u001b[37m\u001b[0m \u001b[1m2s\u001b[0m 2ms/step - loss: 0.5532 - val_loss: 0.5003\n",
      "Epoch 4/40\n",
      "\u001b[1m1050/1050\u001b[0m \u001b[32m━━━━━━━━━━━━━━━━━━━━\u001b[0m\u001b[37m\u001b[0m \u001b[1m2s\u001b[0m 2ms/step - loss: 0.4467 - val_loss: 0.4601\n",
      "Epoch 5/40\n",
      "\u001b[1m1050/1050\u001b[0m \u001b[32m━━━━━━━━━━━━━━━━━━━━\u001b[0m\u001b[37m\u001b[0m \u001b[1m2s\u001b[0m 2ms/step - loss: 0.3925 - val_loss: 0.4283\n",
      "Epoch 6/40\n",
      "\u001b[1m1050/1050\u001b[0m \u001b[32m━━━━━━━━━━━━━━━━━━━━\u001b[0m\u001b[37m\u001b[0m \u001b[1m2s\u001b[0m 2ms/step - loss: 0.3586 - val_loss: 0.3900\n",
      "Epoch 7/40\n",
      "\u001b[1m1050/1050\u001b[0m \u001b[32m━━━━━━━━━━━━━━━━━━━━\u001b[0m\u001b[37m\u001b[0m \u001b[1m2s\u001b[0m 2ms/step - loss: 0.3345 - val_loss: 0.3757\n",
      "Epoch 8/40\n",
      "\u001b[1m1050/1050\u001b[0m \u001b[32m━━━━━━━━━━━━━━━━━━━━\u001b[0m\u001b[37m\u001b[0m \u001b[1m2s\u001b[0m 2ms/step - loss: 0.3278 - val_loss: 0.3476\n",
      "Epoch 9/40\n",
      "\u001b[1m1050/1050\u001b[0m \u001b[32m━━━━━━━━━━━━━━━━━━━━\u001b[0m\u001b[37m\u001b[0m \u001b[1m2s\u001b[0m 2ms/step - loss: 0.3064 - val_loss: 0.3693\n",
      "Epoch 10/40\n",
      "\u001b[1m1050/1050\u001b[0m \u001b[32m━━━━━━━━━━━━━━━━━━━━\u001b[0m\u001b[37m\u001b[0m \u001b[1m2s\u001b[0m 2ms/step - loss: 0.2892 - val_loss: 0.3437\n",
      "Epoch 11/40\n",
      "\u001b[1m1050/1050\u001b[0m \u001b[32m━━━━━━━━━━━━━━━━━━━━\u001b[0m\u001b[37m\u001b[0m \u001b[1m2s\u001b[0m 2ms/step - loss: 0.2756 - val_loss: 0.3511\n",
      "Epoch 12/40\n",
      "\u001b[1m1050/1050\u001b[0m \u001b[32m━━━━━━━━━━━━━━━━━━━━\u001b[0m\u001b[37m\u001b[0m \u001b[1m2s\u001b[0m 2ms/step - loss: 0.2801 - val_loss: 0.3625\n",
      "Epoch 13/40\n",
      "\u001b[1m1050/1050\u001b[0m \u001b[32m━━━━━━━━━━━━━━━━━━━━\u001b[0m\u001b[37m\u001b[0m \u001b[1m2s\u001b[0m 2ms/step - loss: 0.2618 - val_loss: 0.3467\n",
      "Epoch 14/40\n",
      "\u001b[1m1050/1050\u001b[0m \u001b[32m━━━━━━━━━━━━━━━━━━━━\u001b[0m\u001b[37m\u001b[0m \u001b[1m2s\u001b[0m 2ms/step - loss: 0.2538 - val_loss: 0.3261\n",
      "Epoch 15/40\n",
      "\u001b[1m1050/1050\u001b[0m \u001b[32m━━━━━━━━━━━━━━━━━━━━\u001b[0m\u001b[37m\u001b[0m \u001b[1m2s\u001b[0m 2ms/step - loss: 0.2488 - val_loss: 0.3523\n",
      "Epoch 16/40\n",
      "\u001b[1m1050/1050\u001b[0m \u001b[32m━━━━━━━━━━━━━━━━━━━━\u001b[0m\u001b[37m\u001b[0m \u001b[1m2s\u001b[0m 2ms/step - loss: 0.2456 - val_loss: 0.3415\n",
      "Epoch 17/40\n",
      "\u001b[1m1050/1050\u001b[0m \u001b[32m━━━━━━━━━━━━━━━━━━━━\u001b[0m\u001b[37m\u001b[0m \u001b[1m2s\u001b[0m 2ms/step - loss: 0.2375 - val_loss: 0.3244\n",
      "Epoch 18/40\n",
      "\u001b[1m1050/1050\u001b[0m \u001b[32m━━━━━━━━━━━━━━━━━━━━\u001b[0m\u001b[37m\u001b[0m \u001b[1m2s\u001b[0m 2ms/step - loss: 0.2330 - val_loss: 0.3206\n",
      "Epoch 19/40\n",
      "\u001b[1m1050/1050\u001b[0m \u001b[32m━━━━━━━━━━━━━━━━━━━━\u001b[0m\u001b[37m\u001b[0m \u001b[1m2s\u001b[0m 2ms/step - loss: 0.2206 - val_loss: 0.3295\n",
      "Epoch 20/40\n",
      "\u001b[1m1050/1050\u001b[0m \u001b[32m━━━━━━━━━━━━━━━━━━━━\u001b[0m\u001b[37m\u001b[0m \u001b[1m2s\u001b[0m 2ms/step - loss: 0.2244 - val_loss: 0.3470\n",
      "Epoch 21/40\n",
      "\u001b[1m1050/1050\u001b[0m \u001b[32m━━━━━━━━━━━━━━━━━━━━\u001b[0m\u001b[37m\u001b[0m \u001b[1m2s\u001b[0m 2ms/step - loss: 0.2170 - val_loss: 0.3152\n",
      "Epoch 22/40\n",
      "\u001b[1m1050/1050\u001b[0m \u001b[32m━━━━━━━━━━━━━━━━━━━━\u001b[0m\u001b[37m\u001b[0m \u001b[1m2s\u001b[0m 2ms/step - loss: 0.2099 - val_loss: 0.3269\n",
      "Epoch 23/40\n",
      "\u001b[1m1050/1050\u001b[0m \u001b[32m━━━━━━━━━━━━━━━━━━━━\u001b[0m\u001b[37m\u001b[0m \u001b[1m2s\u001b[0m 2ms/step - loss: 0.2071 - val_loss: 0.3137\n",
      "Epoch 24/40\n",
      "\u001b[1m1050/1050\u001b[0m \u001b[32m━━━━━━━━━━━━━━━━━━━━\u001b[0m\u001b[37m\u001b[0m \u001b[1m2s\u001b[0m 2ms/step - loss: 0.2020 - val_loss: 0.3305\n",
      "Epoch 25/40\n",
      "\u001b[1m1050/1050\u001b[0m \u001b[32m━━━━━━━━━━━━━━━━━━━━\u001b[0m\u001b[37m\u001b[0m \u001b[1m2s\u001b[0m 2ms/step - loss: 0.1966 - val_loss: 0.3245\n",
      "Epoch 26/40\n",
      "\u001b[1m1050/1050\u001b[0m \u001b[32m━━━━━━━━━━━━━━━━━━━━\u001b[0m\u001b[37m\u001b[0m \u001b[1m2s\u001b[0m 2ms/step - loss: 0.1945 - val_loss: 0.3300\n",
      "Epoch 27/40\n",
      "\u001b[1m1050/1050\u001b[0m \u001b[32m━━━━━━━━━━━━━━━━━━━━\u001b[0m\u001b[37m\u001b[0m \u001b[1m2s\u001b[0m 2ms/step - loss: 0.1962 - val_loss: 0.3167\n",
      "Epoch 28/40\n",
      "\u001b[1m1050/1050\u001b[0m \u001b[32m━━━━━━━━━━━━━━━━━━━━\u001b[0m\u001b[37m\u001b[0m \u001b[1m2s\u001b[0m 2ms/step - loss: 0.1947 - val_loss: 0.3043\n",
      "Epoch 29/40\n",
      "\u001b[1m1050/1050\u001b[0m \u001b[32m━━━━━━━━━━━━━━━━━━━━\u001b[0m\u001b[37m\u001b[0m \u001b[1m2s\u001b[0m 2ms/step - loss: 0.1916 - val_loss: 0.3147\n",
      "Epoch 30/40\n",
      "\u001b[1m1050/1050\u001b[0m \u001b[32m━━━━━━━━━━━━━━━━━━━━\u001b[0m\u001b[37m\u001b[0m \u001b[1m2s\u001b[0m 2ms/step - loss: 0.1837 - val_loss: 0.3069\n",
      "Epoch 31/40\n",
      "\u001b[1m1050/1050\u001b[0m \u001b[32m━━━━━━━━━━━━━━━━━━━━\u001b[0m\u001b[37m\u001b[0m \u001b[1m2s\u001b[0m 2ms/step - loss: 0.1728 - val_loss: 0.3138\n",
      "Epoch 32/40\n",
      "\u001b[1m1050/1050\u001b[0m \u001b[32m━━━━━━━━━━━━━━━━━━━━\u001b[0m\u001b[37m\u001b[0m \u001b[1m2s\u001b[0m 2ms/step - loss: 0.1762 - val_loss: 0.3210\n",
      "Epoch 33/40\n",
      "\u001b[1m1050/1050\u001b[0m \u001b[32m━━━━━━━━━━━━━━━━━━━━\u001b[0m\u001b[37m\u001b[0m \u001b[1m2s\u001b[0m 2ms/step - loss: 0.1816 - val_loss: 0.3004\n",
      "Epoch 34/40\n",
      "\u001b[1m1050/1050\u001b[0m \u001b[32m━━━━━━━━━━━━━━━━━━━━\u001b[0m\u001b[37m\u001b[0m \u001b[1m2s\u001b[0m 2ms/step - loss: 0.1666 - val_loss: 0.3010\n",
      "Epoch 35/40\n",
      "\u001b[1m1050/1050\u001b[0m \u001b[32m━━━━━━━━━━━━━━━━━━━━\u001b[0m\u001b[37m\u001b[0m \u001b[1m2s\u001b[0m 2ms/step - loss: 0.1702 - val_loss: 0.3088\n",
      "Epoch 36/40\n",
      "\u001b[1m1050/1050\u001b[0m \u001b[32m━━━━━━━━━━━━━━━━━━━━\u001b[0m\u001b[37m\u001b[0m \u001b[1m2s\u001b[0m 2ms/step - loss: 0.1650 - val_loss: 0.3050\n",
      "Epoch 37/40\n",
      "\u001b[1m1050/1050\u001b[0m \u001b[32m━━━━━━━━━━━━━━━━━━━━\u001b[0m\u001b[37m\u001b[0m \u001b[1m2s\u001b[0m 2ms/step - loss: 0.1637 - val_loss: 0.3008\n",
      "Epoch 38/40\n",
      "\u001b[1m1050/1050\u001b[0m \u001b[32m━━━━━━━━━━━━━━━━━━━━\u001b[0m\u001b[37m\u001b[0m \u001b[1m2s\u001b[0m 2ms/step - loss: 0.1617 - val_loss: 0.2895\n",
      "Epoch 39/40\n",
      "\u001b[1m1050/1050\u001b[0m \u001b[32m━━━━━━━━━━━━━━━━━━━━\u001b[0m\u001b[37m\u001b[0m \u001b[1m2s\u001b[0m 2ms/step - loss: 0.1579 - val_loss: 0.2989\n",
      "Epoch 40/40\n",
      "\u001b[1m1050/1050\u001b[0m \u001b[32m━━━━━━━━━━━━━━━━━━━━\u001b[0m\u001b[37m\u001b[0m \u001b[1m2s\u001b[0m 2ms/step - loss: 0.1565 - val_loss: 0.2953\n"
     ]
    }
   ],
   "source": [
    "model.compile(\n",
    "    loss = tf.keras.losses.SparseCategoricalCrossentropy(from_logits=True),          #logits:z cause tensorflow to lil bit less numerical round off error\n",
    "    optimizer=tf.keras.optimizers.Adam(learning_rate=0.001),                         #it tells to use 1/1+e^-z (softmax) in loss func instead \"a\" calculated softmax in last layer,thats why we use linear activation in last layer\n",
    ")\n",
    "\n",
    "history = model.fit(X_train,y_train, epochs=40,validation_data=(X_val, y_val))"
   ]
  },
  {
   "cell_type": "code",
   "execution_count": 12,
   "id": "b0ac452e",
   "metadata": {
    "execution": {
     "iopub.execute_input": "2024-10-06T16:00:06.030246Z",
     "iopub.status.busy": "2024-10-06T16:00:06.029784Z",
     "iopub.status.idle": "2024-10-06T16:00:06.243343Z",
     "shell.execute_reply": "2024-10-06T16:00:06.242201Z"
    },
    "papermill": {
     "duration": 0.321201,
     "end_time": "2024-10-06T16:00:06.245807",
     "exception": false,
     "start_time": "2024-10-06T16:00:05.924606",
     "status": "completed"
    },
    "tags": []
   },
   "outputs": [
    {
     "data": {
      "image/png": "[encoded data removed]",
      "text/plain": [
       "<Figure size 400x300 with 1 Axes>"
      ]
     },
     "metadata": {},
     "output_type": "display_data"
    }
   ],
   "source": [
    "def plot_loss_tf(history):\n",
    "    fig,ax = plt.subplots(1,1, figsize = (4,3))\n",
    "    ax.plot(history.history['loss'], label='loss',c='b')\n",
    "    ax.plot(history.history['val_loss'], label='val loss',c='r')\n",
    "    ax.set_ylim([0, 2])\n",
    "    ax.set_xlabel('Epoch')\n",
    "    ax.set_ylabel('loss (cost)')\n",
    "    ax.legend()\n",
    "    ax.grid(True)\n",
    "    plt.show()\n",
    "plot_loss_tf(history)"
   ]
  },
  {
   "cell_type": "code",
   "execution_count": 13,
   "id": "0525fd40",
   "metadata": {
    "execution": {
     "iopub.execute_input": "2024-10-06T16:00:06.454615Z",
     "iopub.status.busy": "2024-10-06T16:00:06.454187Z",
     "iopub.status.idle": "2024-10-06T16:00:06.460435Z",
     "shell.execute_reply": "2024-10-06T16:00:06.459232Z"
    },
    "papermill": {
     "duration": 0.114626,
     "end_time": "2024-10-06T16:00:06.463076",
     "exception": false,
     "start_time": "2024-10-06T16:00:06.348450",
     "status": "completed"
    },
    "tags": []
   },
   "outputs": [],
   "source": [
    "def display_digit(x):\n",
    "    fig,ax = plt.subplots(1,1, figsize=(1,1))\n",
    "    x_reshaped = x.reshape(28,28)\n",
    "    ax.imshow(x_reshaped, cmap='gray')\n",
    "    plt.show()"
   ]
  },
  {
   "cell_type": "code",
   "execution_count": 14,
   "id": "e2888b58",
   "metadata": {
    "execution": {
     "iopub.execute_input": "2024-10-06T16:00:06.674466Z",
     "iopub.status.busy": "2024-10-06T16:00:06.674024Z",
     "iopub.status.idle": "2024-10-06T16:00:06.957141Z",
     "shell.execute_reply": "2024-10-06T16:00:06.955455Z"
    },
    "papermill": {
     "duration": 0.392488,
     "end_time": "2024-10-06T16:00:06.959800",
     "exception": false,
     "start_time": "2024-10-06T16:00:06.567312",
     "status": "completed"
    },
    "tags": []
   },
   "outputs": [
    {
     "data": {
      "image/png": "[encoded data removed]",
      "text/plain": [
       "<Figure size 100x100 with 1 Axes>"
      ]
     },
     "metadata": {},
     "output_type": "display_data"
    },
    {
     "name": "stdout",
     "output_type": "stream",
     "text": [
      "\u001b[1m1/1\u001b[0m \u001b[32m━━━━━━━━━━━━━━━━━━━━\u001b[0m\u001b[37m\u001b[0m \u001b[1m0s\u001b[0m 58ms/step\n",
      "prediction: \n",
      "[[-20.473913   -1.5890749  -8.01148     5.949526   -7.8288226  -1.5918156\n",
      "  -12.171215   -5.1087713  -4.300212    1.4468337]]\n",
      "Largest prediction index: 3\n"
     ]
    }
   ],
   "source": [
    "img = X_train[111]\n",
    "display_digit(img)\n",
    "\n",
    "prediction = model.predict(img.reshape(1,784))\n",
    "\n",
    "print(f\"prediction: \\n{prediction}\")\n",
    "print(f\"Largest prediction index: {np.argmax(prediction)}\")\n",
    "# as we using linear activation in L3 output isnt probability"
   ]
  },
  {
   "cell_type": "code",
   "execution_count": 15,
   "id": "18abcf67",
   "metadata": {
    "execution": {
     "iopub.execute_input": "2024-10-06T16:00:07.232351Z",
     "iopub.status.busy": "2024-10-06T16:00:07.231916Z",
     "iopub.status.idle": "2024-10-06T16:00:07.241277Z",
     "shell.execute_reply": "2024-10-06T16:00:07.239884Z"
    },
    "papermill": {
     "duration": 0.118802,
     "end_time": "2024-10-06T16:00:07.243842",
     "exception": false,
     "start_time": "2024-10-06T16:00:07.125040",
     "status": "completed"
    },
    "tags": []
   },
   "outputs": [
    {
     "name": "stdout",
     "output_type": "stream",
     "text": [
      "prediction (probability vector): \n",
      "[[3.3050806e-12 5.2573031e-04 8.5417702e-07 9.8795193e-01 1.0253566e-06\n",
      "  5.2429165e-04 1.3335154e-08 1.5566049e-05 3.4940673e-05 1.0945647e-02]]\n",
      "Total of prediction: 1.000\n"
     ]
    }
   ],
   "source": [
    "prediction_p = tf.nn.softmax(prediction)\n",
    "\n",
    "print(f\"prediction (probability vector): \\n{prediction_p}\")\n",
    "print(f\"Total of prediction: {np.sum(prediction_p):0.3f}\")"
   ]
  },
  {
   "cell_type": "code",
   "execution_count": 16,
   "id": "9110265a",
   "metadata": {
    "execution": {
     "iopub.execute_input": "2024-10-06T16:00:07.455574Z",
     "iopub.status.busy": "2024-10-06T16:00:07.455139Z",
     "iopub.status.idle": "2024-10-06T16:00:07.460949Z",
     "shell.execute_reply": "2024-10-06T16:00:07.459800Z"
    },
    "papermill": {
     "duration": 0.116018,
     "end_time": "2024-10-06T16:00:07.463557",
     "exception": false,
     "start_time": "2024-10-06T16:00:07.347539",
     "status": "completed"
    },
    "tags": []
   },
   "outputs": [
    {
     "name": "stdout",
     "output_type": "stream",
     "text": [
      "yhat: 3\n"
     ]
    }
   ],
   "source": [
    "yhat = np.argmax(prediction_p)          #return max val index\n",
    "print(f\"yhat: {yhat}\")"
   ]
  },
  {
   "cell_type": "code",
   "execution_count": 17,
   "id": "fdce1cf0",
   "metadata": {
    "execution": {
     "iopub.execute_input": "2024-10-06T16:00:07.675557Z",
     "iopub.status.busy": "2024-10-06T16:00:07.675144Z",
     "iopub.status.idle": "2024-10-06T16:00:10.569489Z",
     "shell.execute_reply": "2024-10-06T16:00:10.568313Z"
    },
    "papermill": {
     "duration": 3.004042,
     "end_time": "2024-10-06T16:00:10.572065",
     "exception": false,
     "start_time": "2024-10-06T16:00:07.568023",
     "status": "completed"
    },
    "tags": []
   },
   "outputs": [
    {
     "name": "stdout",
     "output_type": "stream",
     "text": [
      "\u001b[1m1050/1050\u001b[0m \u001b[32m━━━━━━━━━━━━━━━━━━━━\u001b[0m\u001b[37m\u001b[0m \u001b[1m1s\u001b[0m 1ms/step - loss: 0.1619\n"
     ]
    },
    {
     "data": {
      "text/plain": [
       "0.16236864030361176"
      ]
     },
     "execution_count": 17,
     "metadata": {},
     "output_type": "execute_result"
    }
   ],
   "source": [
    "model.evaluate(X_train,y_train)"
   ]
  },
  {
   "cell_type": "code",
   "execution_count": 18,
   "id": "2b90828a",
   "metadata": {
    "execution": {
     "iopub.execute_input": "2024-10-06T16:00:10.790483Z",
     "iopub.status.busy": "2024-10-06T16:00:10.790043Z",
     "iopub.status.idle": "2024-10-06T16:00:11.270504Z",
     "shell.execute_reply": "2024-10-06T16:00:11.269301Z"
    },
    "papermill": {
     "duration": 0.592339,
     "end_time": "2024-10-06T16:00:11.273128",
     "exception": false,
     "start_time": "2024-10-06T16:00:10.680789",
     "status": "completed"
    },
    "tags": []
   },
   "outputs": [
    {
     "name": "stdout",
     "output_type": "stream",
     "text": [
      "\u001b[1m263/263\u001b[0m \u001b[32m━━━━━━━━━━━━━━━━━━━━\u001b[0m\u001b[37m\u001b[0m \u001b[1m0s\u001b[0m 1ms/step - loss: 0.2875\n"
     ]
    },
    {
     "data": {
      "text/plain": [
       "0.2952655553817749"
      ]
     },
     "execution_count": 18,
     "metadata": {},
     "output_type": "execute_result"
    }
   ],
   "source": [
    "model.evaluate(X_val,y_val)"
   ]
  },
  {
   "cell_type": "code",
   "execution_count": 19,
   "id": "52d328b4",
   "metadata": {
    "execution": {
     "iopub.execute_input": "2024-10-06T16:00:11.492604Z",
     "iopub.status.busy": "2024-10-06T16:00:11.491831Z",
     "iopub.status.idle": "2024-10-06T16:00:13.630021Z",
     "shell.execute_reply": "2024-10-06T16:00:13.628263Z"
    },
    "papermill": {
     "duration": 2.251149,
     "end_time": "2024-10-06T16:00:13.632484",
     "exception": false,
     "start_time": "2024-10-06T16:00:11.381335",
     "status": "completed"
    },
    "tags": []
   },
   "outputs": [
    {
     "name": "stdout",
     "output_type": "stream",
     "text": [
      "\u001b[1m1050/1050\u001b[0m \u001b[32m━━━━━━━━━━━━━━━━━━━━\u001b[0m\u001b[37m\u001b[0m \u001b[1m1s\u001b[0m 1ms/step\n",
      "number of error: 1580\n",
      "accurancy: 95.298\n"
     ]
    }
   ],
   "source": [
    "def display_error(model, X,y):\n",
    "    f = model.predict(X)\n",
    "    yhat = np.argmax(f,axis=1)\n",
    "    idxs = np.where(yhat != y[:,0])[0]\n",
    "    error = (len(idxs)/y.shape[0])*100\n",
    "    print(f\"number of error: {len(idxs)}\")\n",
    "    print(f\"accurancy: {100-error:0.3f}\")\n",
    "    \n",
    "display_error(model, X_train,y_train)"
   ]
  },
  {
   "cell_type": "code",
   "execution_count": 20,
   "id": "5a879ceb",
   "metadata": {
    "execution": {
     "iopub.execute_input": "2024-10-06T16:00:13.855174Z",
     "iopub.status.busy": "2024-10-06T16:00:13.854744Z",
     "iopub.status.idle": "2024-10-06T16:00:14.448516Z",
     "shell.execute_reply": "2024-10-06T16:00:14.447218Z"
    },
    "papermill": {
     "duration": 0.708355,
     "end_time": "2024-10-06T16:00:14.450802",
     "exception": false,
     "start_time": "2024-10-06T16:00:13.742447",
     "status": "completed"
    },
    "tags": []
   },
   "outputs": [
    {
     "name": "stdout",
     "output_type": "stream",
     "text": [
      "\u001b[1m263/263\u001b[0m \u001b[32m━━━━━━━━━━━━━━━━━━━━\u001b[0m\u001b[37m\u001b[0m \u001b[1m0s\u001b[0m 1ms/step\n",
      "number of error: 556\n",
      "accurancy: 93.381\n"
     ]
    }
   ],
   "source": [
    "display_error(model, X_val,y_val)"
   ]
  },
  {
   "cell_type": "code",
   "execution_count": 21,
   "id": "c11fe132",
   "metadata": {
    "execution": {
     "iopub.execute_input": "2024-10-06T16:00:14.677212Z",
     "iopub.status.busy": "2024-10-06T16:00:14.676799Z",
     "iopub.status.idle": "2024-10-06T16:00:14.705284Z",
     "shell.execute_reply": "2024-10-06T16:00:14.704128Z"
    },
    "papermill": {
     "duration": 0.143215,
     "end_time": "2024-10-06T16:00:14.707901",
     "exception": false,
     "start_time": "2024-10-06T16:00:14.564686",
     "status": "completed"
    },
    "tags": []
   },
   "outputs": [
    {
     "data": {
      "text/html": [
       "<div>\n",
       "<style scoped>\n",
       "    .dataframe tbody tr th:only-of-type {\n",
       "        vertical-align: middle;\n",
       "    }\n",
       "\n",
       "    .dataframe tbody tr th {\n",
       "        vertical-align: top;\n",
       "    }\n",
       "\n",
       "    .dataframe thead th {\n",
       "        text-align: right;\n",
       "    }\n",
       "</style>\n",
       "<table border=\"1\" class=\"dataframe\">\n",
       "  <thead>\n",
       "    <tr style=\"text-align: right;\">\n",
       "      <th></th>\n",
       "      <th>pixel0</th>\n",
       "      <th>pixel1</th>\n",
       "      <th>pixel2</th>\n",
       "      <th>pixel3</th>\n",
       "      <th>pixel4</th>\n",
       "      <th>pixel5</th>\n",
       "      <th>pixel6</th>\n",
       "      <th>pixel7</th>\n",
       "      <th>pixel8</th>\n",
       "      <th>pixel9</th>\n",
       "      <th>...</th>\n",
       "      <th>pixel774</th>\n",
       "      <th>pixel775</th>\n",
       "      <th>pixel776</th>\n",
       "      <th>pixel777</th>\n",
       "      <th>pixel778</th>\n",
       "      <th>pixel779</th>\n",
       "      <th>pixel780</th>\n",
       "      <th>pixel781</th>\n",
       "      <th>pixel782</th>\n",
       "      <th>pixel783</th>\n",
       "    </tr>\n",
       "  </thead>\n",
       "  <tbody>\n",
       "    <tr>\n",
       "      <th>0</th>\n",
       "      <td>0</td>\n",
       "      <td>0</td>\n",
       "      <td>0</td>\n",
       "      <td>0</td>\n",
       "      <td>0</td>\n",
       "      <td>0</td>\n",
       "      <td>0</td>\n",
       "      <td>0</td>\n",
       "      <td>0</td>\n",
       "      <td>0</td>\n",
       "      <td>...</td>\n",
       "      <td>0</td>\n",
       "      <td>0</td>\n",
       "      <td>0</td>\n",
       "      <td>0</td>\n",
       "      <td>0</td>\n",
       "      <td>0</td>\n",
       "      <td>0</td>\n",
       "      <td>0</td>\n",
       "      <td>0</td>\n",
       "      <td>0</td>\n",
       "    </tr>\n",
       "    <tr>\n",
       "      <th>1</th>\n",
       "      <td>0</td>\n",
       "      <td>0</td>\n",
       "      <td>0</td>\n",
       "      <td>0</td>\n",
       "      <td>0</td>\n",
       "      <td>0</td>\n",
       "      <td>0</td>\n",
       "      <td>0</td>\n",
       "      <td>0</td>\n",
       "      <td>0</td>\n",
       "      <td>...</td>\n",
       "      <td>0</td>\n",
       "      <td>0</td>\n",
       "      <td>0</td>\n",
       "      <td>0</td>\n",
       "      <td>0</td>\n",
       "      <td>0</td>\n",
       "      <td>0</td>\n",
       "      <td>0</td>\n",
       "      <td>0</td>\n",
       "      <td>0</td>\n",
       "    </tr>\n",
       "    <tr>\n",
       "      <th>2</th>\n",
       "      <td>0</td>\n",
       "      <td>0</td>\n",
       "      <td>0</td>\n",
       "      <td>0</td>\n",
       "      <td>0</td>\n",
       "      <td>0</td>\n",
       "      <td>0</td>\n",
       "      <td>0</td>\n",
       "      <td>0</td>\n",
       "      <td>0</td>\n",
       "      <td>...</td>\n",
       "      <td>0</td>\n",
       "      <td>0</td>\n",
       "      <td>0</td>\n",
       "      <td>0</td>\n",
       "      <td>0</td>\n",
       "      <td>0</td>\n",
       "      <td>0</td>\n",
       "      <td>0</td>\n",
       "      <td>0</td>\n",
       "      <td>0</td>\n",
       "    </tr>\n",
       "    <tr>\n",
       "      <th>3</th>\n",
       "      <td>0</td>\n",
       "      <td>0</td>\n",
       "      <td>0</td>\n",
       "      <td>0</td>\n",
       "      <td>0</td>\n",
       "      <td>0</td>\n",
       "      <td>0</td>\n",
       "      <td>0</td>\n",
       "      <td>0</td>\n",
       "      <td>0</td>\n",
       "      <td>...</td>\n",
       "      <td>0</td>\n",
       "      <td>0</td>\n",
       "      <td>0</td>\n",
       "      <td>0</td>\n",
       "      <td>0</td>\n",
       "      <td>0</td>\n",
       "      <td>0</td>\n",
       "      <td>0</td>\n",
       "      <td>0</td>\n",
       "      <td>0</td>\n",
       "    </tr>\n",
       "    <tr>\n",
       "      <th>4</th>\n",
       "      <td>0</td>\n",
       "      <td>0</td>\n",
       "      <td>0</td>\n",
       "      <td>0</td>\n",
       "      <td>0</td>\n",
       "      <td>0</td>\n",
       "      <td>0</td>\n",
       "      <td>0</td>\n",
       "      <td>0</td>\n",
       "      <td>0</td>\n",
       "      <td>...</td>\n",
       "      <td>0</td>\n",
       "      <td>0</td>\n",
       "      <td>0</td>\n",
       "      <td>0</td>\n",
       "      <td>0</td>\n",
       "      <td>0</td>\n",
       "      <td>0</td>\n",
       "      <td>0</td>\n",
       "      <td>0</td>\n",
       "      <td>0</td>\n",
       "    </tr>\n",
       "  </tbody>\n",
       "</table>\n",
       "<p>5 rows × 784 columns</p>\n",
       "</div>"
      ],
      "text/plain": [
       "   pixel0  pixel1  pixel2  pixel3  pixel4  pixel5  pixel6  pixel7  pixel8  \\\n",
       "0       0       0       0       0       0       0       0       0       0   \n",
       "1       0       0       0       0       0       0       0       0       0   \n",
       "2       0       0       0       0       0       0       0       0       0   \n",
       "3       0       0       0       0       0       0       0       0       0   \n",
       "4       0       0       0       0       0       0       0       0       0   \n",
       "\n",
       "   pixel9  ...  pixel774  pixel775  pixel776  pixel777  pixel778  pixel779  \\\n",
       "0       0  ...         0         0         0         0         0         0   \n",
       "1       0  ...         0         0         0         0         0         0   \n",
       "2       0  ...         0         0         0         0         0         0   \n",
       "3       0  ...         0         0         0         0         0         0   \n",
       "4       0  ...         0         0         0         0         0         0   \n",
       "\n",
       "   pixel780  pixel781  pixel782  pixel783  \n",
       "0         0         0         0         0  \n",
       "1         0         0         0         0  \n",
       "2         0         0         0         0  \n",
       "3         0         0         0         0  \n",
       "4         0         0         0         0  \n",
       "\n",
       "[5 rows x 784 columns]"
      ]
     },
     "execution_count": 21,
     "metadata": {},
     "output_type": "execute_result"
    }
   ],
   "source": [
    "test.head()"
   ]
  },
  {
   "cell_type": "code",
   "execution_count": 22,
   "id": "fbccb836",
   "metadata": {
    "execution": {
     "iopub.execute_input": "2024-10-06T16:00:14.936503Z",
     "iopub.status.busy": "2024-10-06T16:00:14.936060Z",
     "iopub.status.idle": "2024-10-06T16:00:16.961445Z",
     "shell.execute_reply": "2024-10-06T16:00:16.960278Z"
    },
    "papermill": {
     "duration": 2.140706,
     "end_time": "2024-10-06T16:00:16.964070",
     "exception": false,
     "start_time": "2024-10-06T16:00:14.823364",
     "status": "completed"
    },
    "tags": []
   },
   "outputs": [
    {
     "name": "stdout",
     "output_type": "stream",
     "text": [
      "\u001b[1m875/875\u001b[0m \u001b[32m━━━━━━━━━━━━━━━━━━━━\u001b[0m\u001b[37m\u001b[0m \u001b[1m1s\u001b[0m 1ms/step\n"
     ]
    }
   ],
   "source": [
    "Results = model.predict(test)\n",
    "Results = np.argmax(Results,axis=1)\n",
    "\n"
   ]
  },
  {
   "cell_type": "code",
   "execution_count": 23,
   "id": "2ae2ad84",
   "metadata": {
    "execution": {
     "iopub.execute_input": "2024-10-06T16:00:17.192524Z",
     "iopub.status.busy": "2024-10-06T16:00:17.192105Z",
     "iopub.status.idle": "2024-10-06T16:00:17.234685Z",
     "shell.execute_reply": "2024-10-06T16:00:17.233566Z"
    },
    "papermill": {
     "duration": 0.159375,
     "end_time": "2024-10-06T16:00:17.237294",
     "exception": false,
     "start_time": "2024-10-06T16:00:17.077919",
     "status": "completed"
    },
    "tags": []
   },
   "outputs": [],
   "source": [
    "subm = pd.read_csv('/kaggle/input/digit-recognizer/sample_submission.csv')\n",
    "subm.Label = Results\n",
    "subm.to_csv('submission.csv', index=False,header=True)"
   ]
  },
  {
   "cell_type": "code",
   "execution_count": null,
   "id": "0b1952ae",
   "metadata": {
    "papermill": {
     "duration": 0.113543,
     "end_time": "2024-10-06T16:00:17.463622",
     "exception": false,
     "start_time": "2024-10-06T16:00:17.350079",
     "status": "completed"
    },
    "tags": []
   },
   "outputs": [],
   "source": []
  }
 ],
 "metadata": {
  "kaggle": {
   "accelerator": "none",
   "dataSources": [
    {
     "databundleVersionId": 861823,
     "sourceId": 3004,
     "sourceType": "competition"
    }
   ],
   "dockerImageVersionId": 30786,
   "isGpuEnabled": false,
   "isInternetEnabled": false,
   "language": "python",
   "sourceType": "notebook"
  },
  "kernelspec": {
   "display_name": "Python 3",
   "language": "python",
   "name": "python3"
  },
  "language_info": {
   "codemirror_mode": {
    "name": "ipython",
    "version": 3
   },
   "file_extension": ".py",
   "mimetype": "text/x-python",
   "name": "python",
   "nbconvert_exporter": "python",
   "pygments_lexer": "ipython3",
   "version": "3.10.14"
  },
  "papermill": {
   "default_parameters": {},
   "duration": 129.442307,
   "end_time": "2024-10-06T16:00:19.302227",
   "environment_variables": {},
   "exception": null,
   "input_path": "__notebook__.ipynb",
   "output_path": "__notebook__.ipynb",
   "parameters": {},
   "start_time": "2024-10-06T15:58:09.859920",
   "version": "2.6.0"
  }
 },
 "nbformat": 4,
 "nbformat_minor": 5
}
